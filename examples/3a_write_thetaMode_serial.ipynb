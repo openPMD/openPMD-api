{
 "cells": [
  {
   "cell_type": "markdown",
   "metadata": {},
   "source": [
    "# opemPMD-api Write thetaMode Serial Example"
   ]
  },
  {
   "cell_type": "code",
   "execution_count": 1,
   "metadata": {},
   "outputs": [],
   "source": [
    "import openpmd_api as io\n",
    "import numpy as np"
   ]
  },
  {
   "cell_type": "code",
   "execution_count": 2,
   "metadata": {},
   "outputs": [],
   "source": [
    "# open file for writing\n",
    "series = io.Series(\n",
    "    '../samples/3_write_thetaMode_serial_py.h5',\n",
    "    io.Access.create\n",
    ")"
   ]
  },
  {
   "cell_type": "code",
   "execution_count": 3,
   "metadata": {},
   "outputs": [],
   "source": [
    "# configure and setup geometry\n",
    "num_modes = 5\n",
    "num_fields = 1 + (num_modes-1) * 2  # the first mode is purely real\n",
    "N_r = 60\n",
    "N_z = 200"
   ]
  },
  {
   "cell_type": "code",
   "execution_count": 4,
   "metadata": {},
   "outputs": [],
   "source": [
    "# write values 0...size-1\n",
    "E_r_data = np.arange(num_fields*N_r*N_z, dtype=np.double) \\\n",
    "             .reshape(num_fields, N_r, N_z)\n",
    "E_t_data = np.arange(num_fields*N_r*N_z, dtype=np.single) \\\n",
    "             .reshape(num_fields, N_r, N_z)"
   ]
  },
  {
   "cell_type": "code",
   "execution_count": 5,
   "metadata": {},
   "outputs": [
    {
     "data": {
      "text/plain": [
       "'m=5;imag=+'"
      ]
     },
     "execution_count": 5,
     "metadata": {},
     "output_type": "execute_result"
    }
   ],
   "source": [
    "geometry_parameters = f'm={num_modes};imag=+'\n",
    "geometry_parameters"
   ]
  },
  {
   "cell_type": "code",
   "execution_count": 6,
   "metadata": {},
   "outputs": [
    {
     "data": {
      "text/plain": [
       "<openPMD.Mesh record with '0' record components>"
      ]
     },
     "execution_count": 6,
     "metadata": {},
     "output_type": "execute_result"
    }
   ],
   "source": [
    "E = series.iterations[0].meshes[\"E\"]\n",
    "E.set_geometry(io.Geometry.thetaMode)\n",
    "E.set_geometry_parameters(geometry_parameters)\n",
    "E.set_data_order(io.Data_Order.C)\n",
    "E.set_grid_spacing([1.0, 1.0])\n",
    "E.set_grid_global_offset([0.0, 0.0])\n",
    "E.set_grid_unit_SI(1.0)\n",
    "E.set_axis_labels([\"r\", \"z\"])\n",
    "E.unit_dimension = {io.Unit_Dimension.I: 1.0,\n",
    "                    io.Unit_Dimension.J: 2.0}\n",
    "E"
   ]
  },
  {
   "cell_type": "code",
   "execution_count": 7,
   "metadata": {},
   "outputs": [
    {
     "data": {
      "text/plain": [
       "<openPMD.Mesh_Record_Component of dimensionality '3'>"
      ]
     },
     "execution_count": 7,
     "metadata": {},
     "output_type": "execute_result"
    }
   ],
   "source": [
    "# write components: E_z, E_r, E_t\n",
    "E_z = E[\"z\"]\n",
    "E_z.unit_SI = 10.\n",
    "E_z.position = [0.0, 0.5]\n",
    "#   (modes, r, z) see set_geometry_parameters\n",
    "E_z.reset_dataset(io.Dataset(io.Datatype.FLOAT, [num_fields, N_r, N_z]))\n",
    "E_z.make_constant(42.54)"
   ]
  },
  {
   "cell_type": "code",
   "execution_count": 8,
   "metadata": {},
   "outputs": [
    {
     "data": {
      "text/plain": [
       "<openPMD.Mesh_Record_Component of dimensionality '3'>"
      ]
     },
     "execution_count": 8,
     "metadata": {},
     "output_type": "execute_result"
    }
   ],
   "source": [
    "# write all modes at once (otherwise iterate over modes and first index\n",
    "E_r = E[\"r\"]\n",
    "E_r.unit_SI = 10.\n",
    "E_r.position = [0.5, 0.0]\n",
    "E_r.reset_dataset(io.Dataset(E_r_data.dtype, E_r_data.shape))\n",
    "E_r.store_chunk(E_r_data)\n",
    "\n",
    "E_r"
   ]
  },
  {
   "cell_type": "code",
   "execution_count": 9,
   "metadata": {},
   "outputs": [
    {
     "data": {
      "text/plain": [
       "<openPMD.Mesh_Record_Component of dimensionality '3'>"
      ]
     },
     "execution_count": 9,
     "metadata": {},
     "output_type": "execute_result"
    }
   ],
   "source": [
    "E_t = E[\"t\"]\n",
    "E_t.unit_SI = 10.\n",
    "E_t.position = [0.0, 0.0]\n",
    "E_t.reset_dataset(io.Dataset(E_t_data.dtype, E_t_data.shape))\n",
    "E_t.store_chunk(E_t_data)\n",
    "\n",
    "E_t"
   ]
  },
  {
   "cell_type": "code",
   "execution_count": 10,
   "metadata": {},
   "outputs": [],
   "source": [
    "series.flush()\n",
    "\n",
    "# The files in 'series' are still open until the object is destroyed, on\n",
    "# which it cleanly flushes and closes all open file handles.\n",
    "# One can delete the object explicitly (or let it run out of scope) to\n",
    "# trigger this.\n",
    "# del series"
   ]
  }
 ],
 "metadata": {
  "kernelspec": {
   "display_name": "Python 3",
   "language": "python",
   "name": "python3"
  },
  "language_info": {
   "codemirror_mode": {
    "name": "ipython",
    "version": 3
   },
   "file_extension": ".py",
   "mimetype": "text/x-python",
   "name": "python",
   "nbconvert_exporter": "python",
   "pygments_lexer": "ipython3",
   "version": "3.9.0"
  }
 },
 "nbformat": 4,
 "nbformat_minor": 4
}
