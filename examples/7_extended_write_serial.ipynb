{
 "cells": [
  {
   "cell_type": "markdown",
   "metadata": {},
   "source": [
    "# opePMD-api Extended Write Serial Example"
   ]
  },
  {
   "cell_type": "code",
   "execution_count": 1,
   "metadata": {},
   "outputs": [],
   "source": [
    "from openpmd_api import Series, Access, Dataset, Mesh_Record_Component, \\\n",
    "    Unit_Dimension\n",
    "import numpy as np"
   ]
  },
  {
   "cell_type": "code",
   "execution_count": 2,
   "metadata": {},
   "outputs": [],
   "source": [
    "SCALAR = Mesh_Record_Component.SCALAR"
   ]
  },
  {
   "cell_type": "code",
   "execution_count": 3,
   "metadata": {},
   "outputs": [],
   "source": [
    "# open file for writing\n",
    "f = Series(\n",
    "    \"2D_simData_py.h5\",\n",
    "    Access.create\n",
    ")"
   ]
  },
  {
   "cell_type": "code",
   "execution_count": 4,
   "metadata": {},
   "outputs": [
    {
     "data": {
      "text/plain": [
       "<openPMD.Attributable with '10' attributes>"
      ]
     },
     "execution_count": 4,
     "metadata": {},
     "output_type": "execute_result"
    }
   ],
   "source": [
    "# all required openPMD attributes will be set to reasonable default values\n",
    "# (all ones, all zeros, empty strings,...)\n",
    "# manually setting them enforces the openPMD standard\n",
    "f.set_meshes_path(\"custom_meshes_path\")\n",
    "f.set_particles_path(\"long_and_very_custom_particles_path\")"
   ]
  },
  {
   "cell_type": "code",
   "execution_count": 5,
   "metadata": {},
   "outputs": [
    {
     "data": {
      "text/plain": [
       "<openPMD.Attributable with '12' attributes>"
      ]
     },
     "execution_count": 5,
     "metadata": {},
     "output_type": "execute_result"
    }
   ],
   "source": [
    "# it is possible to add and remove attributes\n",
    "f.set_comment(\"This is fine and actually encouraged by the standard\")\n",
    "f.set_attribute(\n",
    "    \"custom_attribute_name\",\n",
    "    \"This attribute is manually added and can contain about any datatype \"\n",
    "    \"you would want\"\n",
    ")\n",
    "f"
   ]
  },
  {
   "cell_type": "code",
   "execution_count": 6,
   "metadata": {},
   "outputs": [
    {
     "data": {
      "text/plain": [
       "True"
      ]
     },
     "execution_count": 6,
     "metadata": {},
     "output_type": "execute_result"
    }
   ],
   "source": [
    "# note that removing attributes required by the standard typically makes\n",
    "# the file unusable for post-processing\n",
    "f.delete_attribute(\"custom_attribute_name\")"
   ]
  },
  {
   "cell_type": "code",
   "execution_count": 7,
   "metadata": {},
   "outputs": [],
   "source": [
    "# setting attributes can be chained in JS-like syntax for compact code\n",
    "tmpItObj = f.iterations[1] \\\n",
    "    .set_time(42.0) \\\n",
    "    .set_dt(1.0) \\\n",
    "    .set_time_unit_SI(1.39e-16)\n",
    "# everything that is accessed with [] should be interpreted as permanent\n",
    "# storage the objects sunk into these locations are deep copies\n",
    "f.iterations[2].set_comment(\"This iteration will not appear in any output\")\n",
    "del f.iterations[2]"
   ]
  },
  {
   "cell_type": "code",
   "execution_count": 8,
   "metadata": {},
   "outputs": [
    {
     "data": {
      "text/plain": [
       "<openPMD.Iteration of at t = '0.000000 s'>"
      ]
     },
     "execution_count": 8,
     "metadata": {},
     "output_type": "execute_result"
    }
   ],
   "source": [
    "# this is a reference to an iteration\n",
    "reference = f.iterations[1]\n",
    "reference.set_comment(\"Modifications to a reference will always be visible\"\n",
    "                      \" in the output\")"
   ]
  },
  {
   "cell_type": "code",
   "execution_count": 9,
   "metadata": {},
   "outputs": [],
   "source": [
    "del reference"
   ]
  },
  {
   "cell_type": "code",
   "execution_count": 10,
   "metadata": {},
   "outputs": [],
   "source": [
    "# alternatively, a copy may be created and later re-assigned to\n",
    "# f.iterations[1]\n",
    "copy = f.iterations[1]  # TODO .copy()\n",
    "copy.set_comment(\"Modifications to copies will only take effect after you \"\n",
    "                 \"reassign the copy\")\n",
    "f.iterations[1] = copy"
   ]
  },
  {
   "cell_type": "code",
   "execution_count": 11,
   "metadata": {},
   "outputs": [],
   "source": [
    "del copy"
   ]
  },
  {
   "cell_type": "code",
   "execution_count": 12,
   "metadata": {},
   "outputs": [],
   "source": [
    "f.iterations[1].delete_attribute(\"comment\")\n",
    "\n",
    "cur_it = f.iterations[1]"
   ]
  },
  {
   "cell_type": "markdown",
   "metadata": {},
   "source": [
    "# Records"
   ]
  },
  {
   "cell_type": "code",
   "execution_count": 13,
   "metadata": {},
   "outputs": [],
   "source": [
    "# the underlying concept for numeric data is the openPMD Record\n",
    "# https://github.com/openPMD/openPMD-standard/blob/upcoming-1.0.1/STANDARD.md#scalar-vector-and-tensor-records\n",
    "# Meshes are specialized records\n",
    "cur_it.meshes[\"generic_2D_field\"].unit_dimension = {\n",
    "    Unit_Dimension.L: -3, Unit_Dimension.M: 1}"
   ]
  },
  {
   "cell_type": "code",
   "execution_count": 14,
   "metadata": {},
   "outputs": [
    {
     "data": {
      "text/plain": [
       "<openPMD.Mesh record with '0' record components>"
      ]
     },
     "execution_count": 14,
     "metadata": {},
     "output_type": "execute_result"
    }
   ],
   "source": [
    "# as this is a reference, it modifies the original resource\n",
    "lowRez = cur_it.meshes[\"generic_2D_field\"]\n",
    "lowRez.set_grid_spacing([1, 1]) \\\n",
    "    .set_grid_global_offset([0, 600])\n",
    "\n"
   ]
  },
  {
   "cell_type": "code",
   "execution_count": 15,
   "metadata": {},
   "outputs": [],
   "source": [
    "# del cur_it.meshes[\"generic_2D_field\"]\n",
    "cur_it.meshes[\"lowRez_2D_field\"] = lowRez\n",
    "del lowRez\n",
    "\n"
   ]
  },
  {
   "cell_type": "code",
   "execution_count": 16,
   "metadata": {},
   "outputs": [
    {
     "data": {
      "text/plain": [
       "<openPMD.Record_Component of dimensionality '1'>"
      ]
     },
     "execution_count": 16,
     "metadata": {},
     "output_type": "execute_result"
    }
   ],
   "source": [
    "# particles are handled very similar\n",
    "electrons = cur_it.particles[\"electrons\"]\n",
    "electrons.set_attribute(\n",
    "    \"NoteWorthyParticleSpeciesProperty\",\n",
    "    \"Observing this species was a blast.\")\n",
    "electrons[\"displacement\"].unit_dimension = {Unit_Dimension.M: 1}\n",
    "electrons[\"displacement\"][\"x\"].unit_SI = 1.e-6\n",
    "del electrons[\"displacement\"]\n",
    "electrons[\"weighting\"][SCALAR].make_constant(1.e-5)"
   ]
  },
  {
   "cell_type": "code",
   "execution_count": 17,
   "metadata": {},
   "outputs": [
    {
     "data": {
      "text/plain": [
       "<openPMD.Mesh record with '0' record components>"
      ]
     },
     "execution_count": 17,
     "metadata": {},
     "output_type": "execute_result"
    }
   ],
   "source": [
    "mesh = cur_it.meshes[\"lowRez_2D_field\"]\n",
    "mesh.set_axis_labels([\"x\", \"y\"])"
   ]
  },
  {
   "cell_type": "code",
   "execution_count": 18,
   "metadata": {},
   "outputs": [],
   "source": [
    "# data is assumed to reside behind a pointer as a contiguous column-major\n",
    "# array shared data ownership during IO is indicated with a smart pointer\n",
    "partial_mesh = np.arange(5, dtype=np.double)"
   ]
  },
  {
   "cell_type": "code",
   "execution_count": 19,
   "metadata": {},
   "outputs": [
    {
     "data": {
      "text/plain": [
       "<openPMD.Mesh_Record_Component of dimensionality '2'>"
      ]
     },
     "execution_count": 19,
     "metadata": {},
     "output_type": "execute_result"
    }
   ],
   "source": [
    "# before storing record data, you must specify the dataset once per\n",
    "# component this describes the datatype and shape of data as it should be\n",
    "# written to disk\n",
    "d = Dataset(partial_mesh.dtype, extent=[2, 5])\n",
    "d.set_compression(\"zlib\", 9)\n",
    "d.set_custom_transform(\"blosc:compressor=zlib,shuffle=bit,lvl=1;nometa\")\n",
    "mesh[\"x\"].reset_dataset(d)"
   ]
  },
  {
   "cell_type": "code",
   "execution_count": 20,
   "metadata": {},
   "outputs": [],
   "source": [
    "electrons = cur_it.particles[\"electrons\"]"
   ]
  },
  {
   "cell_type": "code",
   "execution_count": 21,
   "metadata": {},
   "outputs": [
    {
     "data": {
      "text/plain": [
       "<openPMD.Record_Component of dimensionality '1'>"
      ]
     },
     "execution_count": 21,
     "metadata": {},
     "output_type": "execute_result"
    }
   ],
   "source": [
    "mpiDims = [4]\n",
    "partial_particlePos = np.arange(2, dtype=np.float32)\n",
    "d = Dataset(partial_particlePos.dtype, extent=mpiDims)\n",
    "electrons[\"position\"][\"x\"].reset_dataset(d)"
   ]
  },
  {
   "cell_type": "code",
   "execution_count": 22,
   "metadata": {},
   "outputs": [
    {
     "data": {
      "text/plain": [
       "<openPMD.Record_Component of dimensionality '1'>"
      ]
     },
     "execution_count": 22,
     "metadata": {},
     "output_type": "execute_result"
    }
   ],
   "source": [
    "partial_particleOff = np.arange(2, dtype=np.uint)\n",
    "d = Dataset(partial_particleOff.dtype, mpiDims)\n",
    "electrons[\"positionOffset\"][\"x\"].reset_dataset(d)"
   ]
  },
  {
   "cell_type": "code",
   "execution_count": 23,
   "metadata": {},
   "outputs": [
    {
     "data": {
      "text/plain": [
       "<openPMD.Base_Record_Component of 'ULONG'>"
      ]
     },
     "execution_count": 23,
     "metadata": {},
     "output_type": "execute_result"
    }
   ],
   "source": [
    "dset = Dataset(np.dtype(\"uint64\"), extent=[2])\n",
    "electrons.particle_patches[\"numParticles\"][SCALAR].reset_dataset(dset)\n",
    "electrons.particle_patches[\"numParticlesOffset\"][SCALAR]. \\\n",
    "    reset_dataset(dset)"
   ]
  },
  {
   "cell_type": "code",
   "execution_count": 24,
   "metadata": {},
   "outputs": [
    {
     "data": {
      "text/plain": [
       "<openPMD.Base_Record_Component of 'FLOAT'>"
      ]
     },
     "execution_count": 24,
     "metadata": {},
     "output_type": "execute_result"
    }
   ],
   "source": [
    "dset = Dataset(partial_particlePos.dtype, extent=[2])\n",
    "electrons.particle_patches[\"offset\"].set_unit_dimension(\n",
    "    {Unit_Dimension.L: 1})\n",
    "electrons.particle_patches[\"offset\"][\"x\"].reset_dataset(dset)\n",
    "electrons.particle_patches[\"extent\"].set_unit_dimension(\n",
    "    {Unit_Dimension.L: 1})\n",
    "electrons.particle_patches[\"extent\"][\"x\"].reset_dataset(dset)"
   ]
  },
  {
   "cell_type": "code",
   "execution_count": 25,
   "metadata": {},
   "outputs": [],
   "source": [
    "# at any point in time you may decide to dump already created output to\n",
    "# disk note that this will make some operations impossible (e.g. renaming\n",
    "# files)\n",
    "f.flush()"
   ]
  },
  {
   "cell_type": "markdown",
   "metadata": {},
   "source": [
    "# Chunked Writing"
   ]
  },
  {
   "cell_type": "code",
   "execution_count": 26,
   "metadata": {},
   "outputs": [],
   "source": [
    "# chunked writing of the final dataset at a time is supported\n",
    "# this loop writes one row at a time\n",
    "mesh_x = np.array([\n",
    "    [1,  3,  5,  7,  9],\n",
    "    [11, 13, 15, 17, 19]\n",
    "])"
   ]
  },
  {
   "cell_type": "code",
   "execution_count": 27,
   "metadata": {},
   "outputs": [],
   "source": [
    "particle_position = np.array([0.1, 0.2, 0.3, 0.4], dtype=np.float32)\n",
    "particle_position_offset = [0, 1, 2, 3]\n",
    "for i in [0, 1]:\n",
    "    for col in [0, 1, 2, 3, 4]:\n",
    "        partial_mesh[col] = mesh_x[i, col]\n",
    "\n",
    "    mesh[\"x\"][i, 0:5] = partial_mesh\n",
    "    # operations between store and flush MUST NOT modify the pointed-to\n",
    "    # data\n",
    "    f.flush()\n",
    "    # after the flush completes successfully, access to the shared\n",
    "    # resource is returned to the caller\n",
    "\n",
    "    for idx in [0, 1]:\n",
    "        partial_particlePos[idx] = particle_position[idx + 2*i]\n",
    "        partial_particleOff[idx] = particle_position_offset[idx + 2*i]\n",
    "\n",
    "    numParticlesOffset = 2*i\n",
    "    numParticles = 2\n",
    "\n",
    "    o = numParticlesOffset\n",
    "    u = numParticles + o\n",
    "    electrons[\"position\"][\"x\"][o:u] = partial_particlePos\n",
    "    electrons[\"positionOffset\"][\"x\"][o:u] = partial_particleOff\n",
    "\n",
    "    electrons.particle_patches[\"numParticles\"][SCALAR].store(\n",
    "        i, np.array([numParticles], dtype=np.uint64))\n",
    "    electrons.particle_patches[\"numParticlesOffset\"][SCALAR].store(\n",
    "        i, np.array([numParticlesOffset], dtype=np.uint64))\n",
    "\n",
    "    electrons.particle_patches[\"offset\"][\"x\"].store(\n",
    "        i,\n",
    "        np.array([particle_position[numParticlesOffset]],\n",
    "                 dtype=np.float32))\n",
    "    electrons.particle_patches[\"extent\"][\"x\"].store(\n",
    "        i,\n",
    "        np.array([\n",
    "            particle_position[numParticlesOffset + numParticles - 1] -\n",
    "            particle_position[numParticlesOffset]\n",
    "        ], dtype=np.float32))"
   ]
  },
  {
   "cell_type": "code",
   "execution_count": 28,
   "metadata": {},
   "outputs": [
    {
     "data": {
      "text/plain": [
       "<openPMD.Mesh_Record_Component of dimensionality '1'>"
      ]
     },
     "execution_count": 28,
     "metadata": {},
     "output_type": "execute_result"
    }
   ],
   "source": [
    "mesh[\"y\"].reset_dataset(d)\n",
    "mesh[\"y\"].unit_SI = 4\n",
    "constant_value = 0.3183098861837907\n",
    "# for datasets that contain a single unique value, openPMD offers\n",
    "# constant records\n",
    "mesh[\"y\"].make_constant(constant_value)\n",
    "mesh[\"y\"]"
   ]
  },
  {
   "cell_type": "code",
   "execution_count": 29,
   "metadata": {},
   "outputs": [],
   "source": [
    "# Cleanup\n",
    "import os\n",
    "os.remove(\"2D_simData_py.h5\")"
   ]
  },
  {
   "cell_type": "code",
   "execution_count": 30,
   "metadata": {},
   "outputs": [],
   "source": [
    "# The files in 'f' are still open until the object is destroyed, on\n",
    "# which it cleanly flushes and closes all open file handles.\n",
    "# One can delete the object explicitly (or let it run out of scope) to\n",
    "# trigger this.\n",
    "# del f"
   ]
  }
 ],
 "metadata": {
  "kernelspec": {
   "display_name": "Python 3",
   "language": "python",
   "name": "python3"
  },
  "language_info": {
   "codemirror_mode": {
    "name": "ipython",
    "version": 3
   },
   "file_extension": ".py",
   "mimetype": "text/x-python",
   "name": "python",
   "nbconvert_exporter": "python",
   "pygments_lexer": "ipython3",
   "version": "3.9.0"
  }
 },
 "nbformat": 4,
 "nbformat_minor": 4
}
