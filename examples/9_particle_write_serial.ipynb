{
 "cells": [
  {
   "cell_type": "markdown",
   "metadata": {},
   "source": [
    "# openPMD-api Particle Write Serial Example"
   ]
  },
  {
   "cell_type": "code",
   "execution_count": 1,
   "metadata": {},
   "outputs": [],
   "source": [
    "from openpmd_api import Series, Access, Dataset, Mesh_Record_Component, \\\n",
    "    Unit_Dimension\n",
    "import numpy as np\n",
    "\n",
    "\n",
    "SCALAR = Mesh_Record_Component.SCALAR"
   ]
  },
  {
   "cell_type": "code",
   "execution_count": 2,
   "metadata": {},
   "outputs": [],
   "source": [
    "# open file for writing\n",
    "f = Series(\n",
    "    \"../samples/7_particle_write_serial_py.h5\",\n",
    "    Access.create\n",
    ")"
   ]
  },
  {
   "cell_type": "code",
   "execution_count": 3,
   "metadata": {},
   "outputs": [
    {
     "data": {
      "text/plain": [
       "<openPMD.Attributable with '10' attributes>"
      ]
     },
     "execution_count": 3,
     "metadata": {},
     "output_type": "execute_result"
    }
   ],
   "source": [
    "# all required openPMD attributes will be set to reasonable default values\n",
    "# (all ones, all zeros, empty strings,...)\n",
    "# manually setting them enforces the openPMD standard\n",
    "f.set_meshes_path(\"fields\")\n",
    "f.set_particles_path(\"particles\")\n",
    "\n"
   ]
  },
  {
   "cell_type": "code",
   "execution_count": 4,
   "metadata": {},
   "outputs": [],
   "source": [
    "# new iteration\n",
    "cur_it = f.iterations[0]"
   ]
  },
  {
   "cell_type": "code",
   "execution_count": 5,
   "metadata": {},
   "outputs": [
    {
     "data": {
      "text/plain": [
       "<openPMD.ParticleSpecies>"
      ]
     },
     "execution_count": 5,
     "metadata": {},
     "output_type": "execute_result"
    }
   ],
   "source": [
    "# particles\n",
    "electrons = cur_it.particles[\"electrons\"]\n",
    "electrons.set_attribute(\n",
    "    \"Electrons... the necessary evil for ion acceleration! \",\n",
    "    \"Just kidding.\")\n",
    "\n",
    "electrons"
   ]
  },
  {
   "cell_type": "code",
   "execution_count": 6,
   "metadata": {},
   "outputs": [
    {
     "data": {
      "text/plain": [
       "<openPMD.Record_Component of dimensionality '1'>"
      ]
     },
     "execution_count": 6,
     "metadata": {},
     "output_type": "execute_result"
    }
   ],
   "source": [
    "# let's set a weird user-defined record this time\n",
    "electrons[\"displacement\"].unit_dimension = {Unit_Dimension.M: 1}\n",
    "electrons[\"displacement\"][SCALAR].unit_SI = 1.e-6\n",
    "dset = Dataset(np.dtype(\"float64\"), extent=[2])\n",
    "electrons[\"displacement\"][SCALAR].reset_dataset(dset)\n",
    "electrons[\"displacement\"][SCALAR].make_constant(42.43)\n",
    "# don't like it anymore? remove it with:\n",
    "# del electrons[\"displacement\"]"
   ]
  },
  {
   "cell_type": "code",
   "execution_count": 7,
   "metadata": {},
   "outputs": [
    {
     "data": {
      "text/plain": [
       "<openPMD.Record_Component of dimensionality '1'>"
      ]
     },
     "execution_count": 7,
     "metadata": {},
     "output_type": "execute_result"
    }
   ],
   "source": [
    "electrons[\"weighting\"][SCALAR].make_constant(1.e-5)"
   ]
  },
  {
   "cell_type": "code",
   "execution_count": 8,
   "metadata": {},
   "outputs": [
    {
     "data": {
      "text/plain": [
       "<openPMD.Record_Component of dimensionality '1'>"
      ]
     },
     "execution_count": 8,
     "metadata": {},
     "output_type": "execute_result"
    }
   ],
   "source": [
    "particlePos_x = np.random.rand(234).astype(np.float32)\n",
    "particlePos_y = np.random.rand(234).astype(np.float32)\n",
    "d = Dataset(particlePos_x.dtype, extent=particlePos_x.shape)\n",
    "electrons[\"position\"][\"x\"].reset_dataset(d)\n",
    "electrons[\"position\"][\"y\"].reset_dataset(d)"
   ]
  },
  {
   "cell_type": "code",
   "execution_count": 9,
   "metadata": {},
   "outputs": [
    {
     "data": {
      "text/plain": [
       "<openPMD.Record_Component of dimensionality '1'>"
      ]
     },
     "execution_count": 9,
     "metadata": {},
     "output_type": "execute_result"
    }
   ],
   "source": [
    "\n",
    "particleOff_x = np.arange(234, dtype=np.uint)\n",
    "particleOff_y = np.arange(234, dtype=np.uint)\n",
    "d = Dataset(particleOff_x.dtype, particleOff_x.shape)\n",
    "electrons[\"positionOffset\"][\"x\"].reset_dataset(d)\n",
    "electrons[\"positionOffset\"][\"y\"].reset_dataset(d)"
   ]
  },
  {
   "cell_type": "code",
   "execution_count": 10,
   "metadata": {},
   "outputs": [],
   "source": [
    "\n",
    "electrons[\"position\"][\"x\"].store_chunk(particlePos_x)\n",
    "electrons[\"position\"][\"y\"].store_chunk(particlePos_y)\n",
    "electrons[\"positionOffset\"][\"x\"].store_chunk(particleOff_x)\n",
    "electrons[\"positionOffset\"][\"y\"].store_chunk(particleOff_y)"
   ]
  },
  {
   "cell_type": "code",
   "execution_count": 11,
   "metadata": {},
   "outputs": [],
   "source": [
    "# at any point in time you may decide to dump already created output to\n",
    "# disk note that this will make some operations impossible (e.g. renaming\n",
    "# files)\n",
    "f.flush()"
   ]
  },
  {
   "cell_type": "code",
   "execution_count": 12,
   "metadata": {},
   "outputs": [],
   "source": [
    "# now the file is closed\n",
    "# del f"
   ]
  },
  {
   "cell_type": "code",
   "execution_count": 13,
   "metadata": {},
   "outputs": [],
   "source": [
    "# Cleanup\n",
    "import os\n",
    "os.remove(\"../samples/7_particle_write_serial_py.h5\")"
   ]
  }
 ],
 "metadata": {
  "kernelspec": {
   "display_name": "Python 3",
   "language": "python",
   "name": "python3"
  },
  "language_info": {
   "codemirror_mode": {
    "name": "ipython",
    "version": 3
   },
   "file_extension": ".py",
   "mimetype": "text/x-python",
   "name": "python",
   "nbconvert_exporter": "python",
   "pygments_lexer": "ipython3",
   "version": "3.9.0"
  }
 },
 "nbformat": 4,
 "nbformat_minor": 4
}
